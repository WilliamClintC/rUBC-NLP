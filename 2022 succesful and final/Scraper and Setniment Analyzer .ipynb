{
 "cells": [
  {
   "cell_type": "code",
   "execution_count": 122,
   "metadata": {},
   "outputs": [
    {
     "name": "stdout",
     "output_type": "stream",
     "text": [
      "total posts: 224\n",
      "404\n"
     ]
    },
    {
     "data": {
      "text/html": [
       "<div>\n",
       "<style scoped>\n",
       "    .dataframe tbody tr th:only-of-type {\n",
       "        vertical-align: middle;\n",
       "    }\n",
       "\n",
       "    .dataframe tbody tr th {\n",
       "        vertical-align: top;\n",
       "    }\n",
       "\n",
       "    .dataframe thead th {\n",
       "        text-align: right;\n",
       "    }\n",
       "</style>\n",
       "<table border=\"1\" class=\"dataframe\">\n",
       "  <thead>\n",
       "    <tr style=\"text-align: right;\">\n",
       "      <th></th>\n",
       "      <th>0</th>\n",
       "    </tr>\n",
       "  </thead>\n",
       "  <tbody>\n",
       "    <tr>\n",
       "      <th>0</th>\n",
       "      <td></td>\n",
       "    </tr>\n",
       "    <tr>\n",
       "      <th>1</th>\n",
       "      <td>How are we just going back to in-person if stu...</td>\n",
       "    </tr>\n",
       "    <tr>\n",
       "      <th>2</th>\n",
       "      <td>Outrageous</td>\n",
       "    </tr>\n",
       "    <tr>\n",
       "      <th>3</th>\n",
       "      <td>AC in the gyms esp Birdcoop</td>\n",
       "    </tr>\n",
       "    <tr>\n",
       "      <th>4</th>\n",
       "      <td>My prof just decided to not mark my assignment...</td>\n",
       "    </tr>\n",
       "  </tbody>\n",
       "</table>\n",
       "</div>"
      ],
      "text/plain": [
       "                                                   0\n",
       "0                                                   \n",
       "1  How are we just going back to in-person if stu...\n",
       "2                                         Outrageous\n",
       "3                        AC in the gyms esp Birdcoop\n",
       "4  My prof just decided to not mark my assignment..."
      ]
     },
     "execution_count": 122,
     "metadata": {},
     "output_type": "execute_result"
    }
   ],
   "source": [
    "\n",
    "import nltk\n",
    "from pprint import pprint\n",
    "import pandas as pd\n",
    "import numpy as np\n",
    "import matplotlib.pyplot as plt\n",
    "import seaborn as sns\n",
    "import requests\n",
    "from IPython import display\n",
    "import praw\n",
    "\n",
    "\n",
    "#what is my project. Im going to create a tracker that tells me the most controversial topics in real time\n",
    "reddit = praw.Reddit (\n",
    "    client_id=\"x6kDfhzIfzBSEH9nhGf-Hw\",\n",
    "    client_secret=\"krBRoDQYgOYkHITZDGM41PYMHqlMwg\",\n",
    "     user_agent=\"Scraper 1.0 by /u/WillCCUBC\" )\n",
    "\n",
    "sns.set(style='darkgrid',context='talk',palette=\"Dark2\")\n",
    "\n",
    "headlines = set()\n",
    "set_of_comments=set()\n",
    "counter=0\n",
    "comment_counter=0\n",
    "for submission in reddit.subreddit('ubc').controversial(limit=None):\n",
    "    if  1641024000 <submission.created_utc<1672560000  :\n",
    "        counter=counter+1\n",
    "        headlines.add(submission.title)\n",
    "        headlines.add(submission.selftext)\n",
    "    #for comment in submission.comments:\n",
    "        #comment_counter=comment_counter+1\n",
    "        #print(comment_counter)\n",
    "        #print(comment.body.encode(\"utf-8\", errors='ignore'))\n",
    "        #headlines.add(comment.body.encode(errors='ignore'))\n",
    "print(\"total posts:\",counter)    \n",
    "print(len(headlines))  \n",
    "#headlines.add(\"I LOVE UBC FOREVER\")## Token positive comment\n",
    "df = pd.DataFrame(headlines)\n",
    "#df.to_csv('headlines.csv',header=False,index=False)\n",
    "\n",
    "df.head()\n",
    "#df.to_csv('headlines.txt',header=False,encoding='utf-8',index=False)\n",
    "#df = pd.DataFrame(set_of_comments)\n",
    "#df.to_csv('comments.txt',header=False,encoding='utf-8',index=False)\n",
    "\n",
    "\n"
   ]
  },
  {
   "cell_type": "code",
   "execution_count": 123,
   "metadata": {},
   "outputs": [
    {
     "name": "stdout",
     "output_type": "stream",
     "text": [
      "[{'compound': 0.0, 'headline': '', 'neg': 0.0, 'neu': 0.0, 'pos': 0.0},\n",
      " {'compound': 0.0,\n",
      "  'headline': 'How are we just going back to in-person if students in greeklife are holding '\n",
      "              'superspreader events?',\n",
      "  'neg': 0.0,\n",
      "  'neu': 1.0,\n",
      "  'pos': 0.0},\n",
      " {'compound': -0.4588, 'headline': 'Outrageous', 'neg': 1.0, 'neu': 0.0, 'pos': 0.0}]\n"
     ]
    }
   ],
   "source": [
    "from nltk.sentiment.vader import SentimentIntensityAnalyzer as SIA\n",
    "#nltk.download('vader_lexicon')\n",
    "\n",
    "sia= SIA()\n",
    "results =[]\n",
    "for line in headlines:\n",
    "    scores =sia.polarity_scores(line)\n",
    "    scores['headline']=line\n",
    "    results.append(scores)\n",
    "\n",
    "pprint(results[:3],width=100)\n"
   ]
  },
  {
   "cell_type": "code",
   "execution_count": 124,
   "metadata": {},
   "outputs": [
    {
     "data": {
      "text/html": [
       "<div>\n",
       "<style scoped>\n",
       "    .dataframe tbody tr th:only-of-type {\n",
       "        vertical-align: middle;\n",
       "    }\n",
       "\n",
       "    .dataframe tbody tr th {\n",
       "        vertical-align: top;\n",
       "    }\n",
       "\n",
       "    .dataframe thead th {\n",
       "        text-align: right;\n",
       "    }\n",
       "</style>\n",
       "<table border=\"1\" class=\"dataframe\">\n",
       "  <thead>\n",
       "    <tr style=\"text-align: right;\">\n",
       "      <th></th>\n",
       "      <th>neg</th>\n",
       "      <th>neu</th>\n",
       "      <th>pos</th>\n",
       "      <th>compound</th>\n",
       "      <th>headline</th>\n",
       "      <th>label</th>\n",
       "    </tr>\n",
       "  </thead>\n",
       "  <tbody>\n",
       "    <tr>\n",
       "      <th>0</th>\n",
       "      <td>0.0</td>\n",
       "      <td>0.0</td>\n",
       "      <td>0.0</td>\n",
       "      <td>0.0000</td>\n",
       "      <td></td>\n",
       "      <td>0</td>\n",
       "    </tr>\n",
       "    <tr>\n",
       "      <th>1</th>\n",
       "      <td>0.0</td>\n",
       "      <td>1.0</td>\n",
       "      <td>0.0</td>\n",
       "      <td>0.0000</td>\n",
       "      <td>How are we just going back to in-person if stu...</td>\n",
       "      <td>0</td>\n",
       "    </tr>\n",
       "    <tr>\n",
       "      <th>2</th>\n",
       "      <td>1.0</td>\n",
       "      <td>0.0</td>\n",
       "      <td>0.0</td>\n",
       "      <td>-0.4588</td>\n",
       "      <td>Outrageous</td>\n",
       "      <td>-1</td>\n",
       "    </tr>\n",
       "    <tr>\n",
       "      <th>3</th>\n",
       "      <td>0.0</td>\n",
       "      <td>1.0</td>\n",
       "      <td>0.0</td>\n",
       "      <td>0.0000</td>\n",
       "      <td>AC in the gyms esp Birdcoop</td>\n",
       "      <td>0</td>\n",
       "    </tr>\n",
       "    <tr>\n",
       "      <th>4</th>\n",
       "      <td>0.0</td>\n",
       "      <td>1.0</td>\n",
       "      <td>0.0</td>\n",
       "      <td>0.0000</td>\n",
       "      <td>My prof just decided to not mark my assignment...</td>\n",
       "      <td>0</td>\n",
       "    </tr>\n",
       "  </tbody>\n",
       "</table>\n",
       "</div>"
      ],
      "text/plain": [
       "   neg  neu  pos  compound                                           headline  \\\n",
       "0  0.0  0.0  0.0    0.0000                                                      \n",
       "1  0.0  1.0  0.0    0.0000  How are we just going back to in-person if stu...   \n",
       "2  1.0  0.0  0.0   -0.4588                                         Outrageous   \n",
       "3  0.0  1.0  0.0    0.0000                        AC in the gyms esp Birdcoop   \n",
       "4  0.0  1.0  0.0    0.0000  My prof just decided to not mark my assignment...   \n",
       "\n",
       "   label  \n",
       "0      0  \n",
       "1      0  \n",
       "2     -1  \n",
       "3      0  \n",
       "4      0  "
      ]
     },
     "execution_count": 124,
     "metadata": {},
     "output_type": "execute_result"
    }
   ],
   "source": [
    "df=pd.DataFrame.from_records(results)\n",
    "df.head()\n",
    "df.to_csv('results.csv',header=False,encoding='utf-8',index=False)\n",
    "\n",
    "df['label']=0\n",
    "df.loc[df['compound']>0.2,'label']=1\n",
    "df.loc[df['compound']<-0.2,'label']=-1\n",
    "df.head()\n"
   ]
  },
  {
   "cell_type": "code",
   "execution_count": 125,
   "metadata": {},
   "outputs": [
    {
     "data": {
      "text/plain": [
       " 0    174\n",
       " 1    130\n",
       "-1    100\n",
       "Name: label, dtype: int64"
      ]
     },
     "execution_count": 125,
     "metadata": {},
     "output_type": "execute_result"
    }
   ],
   "source": [
    "\n",
    "\n",
    "df.to_csv('After_Label_results.csv',header=False,encoding='utf-8',index=False)\n",
    "\n",
    "df2=df[['headline','label']]\n",
    "df2.to_csv('reddit_headlines_labels.csv',encoding='utf-8',index=False)\n",
    "df.label.value_counts()"
   ]
  },
  {
   "cell_type": "code",
   "execution_count": 128,
   "metadata": {},
   "outputs": [
    {
     "data": {
      "image/png": "[encoded data removed]",
      "text/plain": [
       "<Figure size 800x800 with 1 Axes>"
      ]
     },
     "metadata": {},
     "output_type": "display_data"
    }
   ],
   "source": [
    "\n",
    "temp=df.label.value_counts(normalize=True)*100\n",
    "temp.to_csv('Temp_results.csv',header=False,encoding='utf-8',index=False)\n",
    "\n",
    "fig, ax=plt.subplots(figsize=(8,8))\n",
    "counts=df.label.value_counts(normalize=True)*100\n",
    "sns.barplot(x=counts.index, y=counts, ax=ax)\n",
    "\n",
    "ax.set_xticklabels(['Negative','Neutral','Positive'])\n",
    "ax.set_ylabel(\"Percentage\")\n",
    "plt.title(\"Sentiment of r/UBC's most controversial posts of 2022\")\n",
    "plt.show()\n"
   ]
  }
 ],
 "metadata": {
  "kernelspec": {
   "display_name": "Python 3",
   "language": "python",
   "name": "python3"
  },
  "language_info": {
   "codemirror_mode": {
    "name": "ipython",
    "version": 3
   },
   "file_extension": ".py",
   "mimetype": "text/x-python",
   "name": "python",
   "nbconvert_exporter": "python",
   "pygments_lexer": "ipython3",
   "version": "3.10.8"
  },
  "orig_nbformat": 4,
  "vscode": {
   "interpreter": {
    "hash": "369f2c481f4da34e4445cda3fffd2e751bd1c4d706f27375911949ba6bb62e1c"
   }
  }
 },
 "nbformat": 4,
 "nbformat_minor": 2
}
